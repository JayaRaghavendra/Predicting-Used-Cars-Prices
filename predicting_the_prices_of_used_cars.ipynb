{
 "cells": [
  {
   "cell_type": "markdown",
   "metadata": {},
   "source": [
    "![](https://i.imgur.com/IhmfRed.png)"
   ]
  },
  {
   "cell_type": "markdown",
   "metadata": {},
   "source": [
    "## Jaya Raghavendra | jay.raghav333@gmail.com | 7036563656"
   ]
  },
  {
   "cell_type": "markdown",
   "metadata": {},
   "source": [
    "# TITLE: Predicting the Prices of Used Cars"
   ]
  },
  {
   "cell_type": "markdown",
   "metadata": {},
   "source": [
    "- Driverless cars are getting closer to reality and at a faster pace than ever. But it is still a bit far fetched dream to have one in your garage. For the time being, there are still a lot of combustion and hybrid cars that roar around the road, for some it chills. Though the overall data on sales of automobiles shows a huge drop in sales in the last couple of years, cars are still a big attraction for many. Cars are more than just a utility for many. They are often the pride and status of the family. We all have different tastes when it comes to owning a car or at least when thinking of owning one."
   ]
  },
  {
   "cell_type": "markdown",
   "metadata": {},
   "source": [
    "![](https://i.imgur.com/FcZJgZP.jpg)"
   ]
  },
  {
   "cell_type": "markdown",
   "metadata": {},
   "source": [
    "## Index"
   ]
  },
  {
   "cell_type": "markdown",
   "metadata": {},
   "source": [
    "- 0. Problem Statement\n",
    "- 1. Business Understanding\n",
    "- 2. Data Exploration\n",
    "- 3. Data Cleaning\n",
    "- 4. Data Visualization\n",
    "- 5. Model Building\n",
    "- 6. Model EValuation"
   ]
  },
  {
   "cell_type": "markdown",
   "metadata": {},
   "source": [
    "### Problem Statement\n",
    "\n",
    "- AIM: To predict the price of used cars based on the previous data obtained from scraping several sources"
   ]
  },
  {
   "cell_type": "markdown",
   "metadata": {},
   "source": [
    "### 1. Business Solutions & Understanding\n",
    "- Companies can restrict the selling price of used car being posted by customer in their respective websites.\n",
    "- Companies can provide a visualization to customers for better understanding of their car selling price.\n",
    "- Companies can have Fraud Customers who are posting the cars for higher prices.\n",
    "- Companies can expand its network based on the amount of cars being sold the next year by prediction."
   ]
  },
  {
   "cell_type": "markdown",
   "metadata": {},
   "source": [
    "### 2. Data Exploration"
   ]
  },
  {
   "cell_type": "code",
   "execution_count": 1,
   "metadata": {},
   "outputs": [],
   "source": [
    "#Importing Libraries\n",
    "import warnings #To avoid warnings based on versions updating\n",
    "warnings.filterwarnings('ignore')\n",
    "import numpy as np #For numerical analysis\n",
    "import pandas as pd #For reading data stored in various file formats\n",
    "import matplotlib.pyplot as plt  #For visualizations\n",
    "import seaborn as sns #For Special Visualizations and insights."
   ]
  },
  {
   "cell_type": "code",
   "execution_count": 2,
   "metadata": {},
   "outputs": [
    {
     "data": {
      "text/plain": [
       "['.ipynb_checkpoints',\n",
       " 'Data',\n",
       " 'Data_Test.xlsx',\n",
       " 'Data_Train.xlsx',\n",
       " 'debug.log',\n",
       " 'Model_File',\n",
       " 'Predicting Food Delivery Time.ipynb',\n",
       " 'predicting_the_prices_of_used_cars.ipynb',\n",
       " 'README.md']"
      ]
     },
     "execution_count": 2,
     "metadata": {},
     "output_type": "execute_result"
    }
   ],
   "source": [
    "#Looking at out directory\n",
    "import os\n",
    "os.listdir()"
   ]
  },
  {
   "cell_type": "code",
   "execution_count": 3,
   "metadata": {},
   "outputs": [],
   "source": [
    "# Let's open the training Data excel file\n",
    "df = pd.read_excel(\"Data_Train.xlsx\")"
   ]
  },
  {
   "cell_type": "code",
   "execution_count": 4,
   "metadata": {},
   "outputs": [
    {
     "data": {
      "text/html": [
       "<div>\n",
       "<style scoped>\n",
       "    .dataframe tbody tr th:only-of-type {\n",
       "        vertical-align: middle;\n",
       "    }\n",
       "\n",
       "    .dataframe tbody tr th {\n",
       "        vertical-align: top;\n",
       "    }\n",
       "\n",
       "    .dataframe thead th {\n",
       "        text-align: right;\n",
       "    }\n",
       "</style>\n",
       "<table border=\"1\" class=\"dataframe\">\n",
       "  <thead>\n",
       "    <tr style=\"text-align: right;\">\n",
       "      <th></th>\n",
       "      <th>Name</th>\n",
       "      <th>Location</th>\n",
       "      <th>Year</th>\n",
       "      <th>Kilometers_Driven</th>\n",
       "      <th>Fuel_Type</th>\n",
       "      <th>Transmission</th>\n",
       "      <th>Owner_Type</th>\n",
       "      <th>Mileage</th>\n",
       "      <th>Engine</th>\n",
       "      <th>Power</th>\n",
       "      <th>Seats</th>\n",
       "      <th>New_Price</th>\n",
       "      <th>Price</th>\n",
       "    </tr>\n",
       "  </thead>\n",
       "  <tbody>\n",
       "    <tr>\n",
       "      <td>0</td>\n",
       "      <td>Maruti Wagon R LXI CNG</td>\n",
       "      <td>Mumbai</td>\n",
       "      <td>2010</td>\n",
       "      <td>72000</td>\n",
       "      <td>CNG</td>\n",
       "      <td>Manual</td>\n",
       "      <td>First</td>\n",
       "      <td>26.6 km/kg</td>\n",
       "      <td>998 CC</td>\n",
       "      <td>58.16 bhp</td>\n",
       "      <td>5.0</td>\n",
       "      <td>NaN</td>\n",
       "      <td>1.75</td>\n",
       "    </tr>\n",
       "    <tr>\n",
       "      <td>1</td>\n",
       "      <td>Hyundai Creta 1.6 CRDi SX Option</td>\n",
       "      <td>Pune</td>\n",
       "      <td>2015</td>\n",
       "      <td>41000</td>\n",
       "      <td>Diesel</td>\n",
       "      <td>Manual</td>\n",
       "      <td>First</td>\n",
       "      <td>19.67 kmpl</td>\n",
       "      <td>1582 CC</td>\n",
       "      <td>126.2 bhp</td>\n",
       "      <td>5.0</td>\n",
       "      <td>NaN</td>\n",
       "      <td>12.50</td>\n",
       "    </tr>\n",
       "    <tr>\n",
       "      <td>2</td>\n",
       "      <td>Honda Jazz V</td>\n",
       "      <td>Chennai</td>\n",
       "      <td>2011</td>\n",
       "      <td>46000</td>\n",
       "      <td>Petrol</td>\n",
       "      <td>Manual</td>\n",
       "      <td>First</td>\n",
       "      <td>18.2 kmpl</td>\n",
       "      <td>1199 CC</td>\n",
       "      <td>88.7 bhp</td>\n",
       "      <td>5.0</td>\n",
       "      <td>8.61 Lakh</td>\n",
       "      <td>4.50</td>\n",
       "    </tr>\n",
       "    <tr>\n",
       "      <td>3</td>\n",
       "      <td>Maruti Ertiga VDI</td>\n",
       "      <td>Chennai</td>\n",
       "      <td>2012</td>\n",
       "      <td>87000</td>\n",
       "      <td>Diesel</td>\n",
       "      <td>Manual</td>\n",
       "      <td>First</td>\n",
       "      <td>20.77 kmpl</td>\n",
       "      <td>1248 CC</td>\n",
       "      <td>88.76 bhp</td>\n",
       "      <td>7.0</td>\n",
       "      <td>NaN</td>\n",
       "      <td>6.00</td>\n",
       "    </tr>\n",
       "    <tr>\n",
       "      <td>4</td>\n",
       "      <td>Audi A4 New 2.0 TDI Multitronic</td>\n",
       "      <td>Coimbatore</td>\n",
       "      <td>2013</td>\n",
       "      <td>40670</td>\n",
       "      <td>Diesel</td>\n",
       "      <td>Automatic</td>\n",
       "      <td>Second</td>\n",
       "      <td>15.2 kmpl</td>\n",
       "      <td>1968 CC</td>\n",
       "      <td>140.8 bhp</td>\n",
       "      <td>5.0</td>\n",
       "      <td>NaN</td>\n",
       "      <td>17.74</td>\n",
       "    </tr>\n",
       "  </tbody>\n",
       "</table>\n",
       "</div>"
      ],
      "text/plain": [
       "                               Name    Location  Year  Kilometers_Driven  \\\n",
       "0            Maruti Wagon R LXI CNG      Mumbai  2010              72000   \n",
       "1  Hyundai Creta 1.6 CRDi SX Option        Pune  2015              41000   \n",
       "2                      Honda Jazz V     Chennai  2011              46000   \n",
       "3                 Maruti Ertiga VDI     Chennai  2012              87000   \n",
       "4   Audi A4 New 2.0 TDI Multitronic  Coimbatore  2013              40670   \n",
       "\n",
       "  Fuel_Type Transmission Owner_Type     Mileage   Engine      Power  Seats  \\\n",
       "0       CNG       Manual      First  26.6 km/kg   998 CC  58.16 bhp    5.0   \n",
       "1    Diesel       Manual      First  19.67 kmpl  1582 CC  126.2 bhp    5.0   \n",
       "2    Petrol       Manual      First   18.2 kmpl  1199 CC   88.7 bhp    5.0   \n",
       "3    Diesel       Manual      First  20.77 kmpl  1248 CC  88.76 bhp    7.0   \n",
       "4    Diesel    Automatic     Second   15.2 kmpl  1968 CC  140.8 bhp    5.0   \n",
       "\n",
       "   New_Price  Price  \n",
       "0        NaN   1.75  \n",
       "1        NaN  12.50  \n",
       "2  8.61 Lakh   4.50  \n",
       "3        NaN   6.00  \n",
       "4        NaN  17.74  "
      ]
     },
     "execution_count": 4,
     "metadata": {},
     "output_type": "execute_result"
    }
   ],
   "source": [
    "df.head()"
   ]
  },
  {
   "cell_type": "markdown",
   "metadata": {},
   "source": [
    "| Parameter | Description  |\n",
    "| --- | --- |\n",
    "|Name | The brand and model of the car |\n",
    "|Location| The location in which the car is being sold or is available for purchase|\n",
    "|Year| The year or edition of the model|\n",
    "|Kilometers_Driven |The total kilometres driven in the car by the previous owner(s) in KM|\n",
    "|Fuel_Type |The type of fuel used by the car|\n",
    "|Transmission |The type of transmission used by the car|\n",
    "|Owner_Type| Whether the ownership is Firsthand, Second hand or other|\n",
    "|Mileage| The standard mileage offered by the car company in kmpl or km/kg|\n",
    "|Engine| The displacement volume of the engine in cc|\n",
    "|Power |The maximum power of the engine in bhp|\n",
    "|Seats| The number of seats in the car|\n",
    "|New_Price| The price of a new car of the same model|\n",
    "|Price |The price of the used car in INR Lakhs|"
   ]
  },
  {
   "cell_type": "code",
   "execution_count": 5,
   "metadata": {},
   "outputs": [
    {
     "name": "stdout",
     "output_type": "stream",
     "text": [
      "**************************************************\n",
      "<class 'pandas.core.frame.DataFrame'>\n",
      "RangeIndex: 6019 entries, 0 to 6018\n",
      "Data columns (total 13 columns):\n",
      "Name                 6019 non-null object\n",
      "Location             6019 non-null object\n",
      "Year                 6019 non-null int64\n",
      "Kilometers_Driven    6019 non-null int64\n",
      "Fuel_Type            6019 non-null object\n",
      "Transmission         6019 non-null object\n",
      "Owner_Type           6019 non-null object\n",
      "Mileage              6017 non-null object\n",
      "Engine               5983 non-null object\n",
      "Power                5983 non-null object\n",
      "Seats                5977 non-null float64\n",
      "New_Price            824 non-null object\n",
      "Price                6019 non-null float64\n",
      "dtypes: float64(2), int64(2), object(9)\n",
      "memory usage: 611.4+ KB\n",
      "None\n",
      "**************************************************\n"
     ]
    }
   ],
   "source": [
    "#Information of Data\n",
    "print(\"*\"*50)\n",
    "print(df.info())\n",
    "print(\"*\"*50)"
   ]
  },
  {
   "cell_type": "markdown",
   "metadata": {},
   "source": [
    "---\n",
    "- Almost of the data is stored as objects and only 2 columns of data is stored in Integers and 2 columbs are floats\n",
    "- Data Cleaning might play a major role in our model building\n",
    "---"
   ]
  },
  {
   "cell_type": "code",
   "execution_count": 6,
   "metadata": {},
   "outputs": [
    {
     "name": "stdout",
     "output_type": "stream",
     "text": [
      "**************************************************\n",
      "Name                    0\n",
      "Location                0\n",
      "Year                    0\n",
      "Kilometers_Driven       0\n",
      "Fuel_Type               0\n",
      "Transmission            0\n",
      "Owner_Type              0\n",
      "Mileage                 2\n",
      "Engine                 36\n",
      "Power                  36\n",
      "Seats                  42\n",
      "New_Price            5195\n",
      "Price                   0\n",
      "dtype: int64\n",
      "**************************************************\n"
     ]
    }
   ],
   "source": [
    "# Checking Null Values\n",
    "print(\"*\"*50)\n",
    "print(df.isnull().sum())\n",
    "print(\"*\"*50)"
   ]
  },
  {
   "cell_type": "code",
   "execution_count": 7,
   "metadata": {},
   "outputs": [
    {
     "data": {
      "text/plain": [
       "<matplotlib.axes._subplots.AxesSubplot at 0x1e1992db748>"
      ]
     },
     "execution_count": 7,
     "metadata": {},
     "output_type": "execute_result"
    },
    {
     "data": {
      "image/png": "[encoded data removed]",
      "text/plain": [
       "<Figure size 864x576 with 2 Axes>"
      ]
     },
     "metadata": {
      "needs_background": "light"
     },
     "output_type": "display_data"
    }
   ],
   "source": [
    "#Visualizing missing values using Seaborn\n",
    "plt.figure(figsize=(12,8))\n",
    "sns.heatmap(df.isnull(), cmap='viridis', yticklabels=False)"
   ]
  },
  {
   "cell_type": "markdown",
   "metadata": {},
   "source": [
    "- We can see that New_Price column values are missing in very high amount and we can drop the column for a cleaner data\n",
    "- The remaining values can be replaced by imputation.\n",
    "---"
   ]
  },
  {
   "cell_type": "markdown",
   "metadata": {},
   "source": [
    "### 03. Data Cleaning"
   ]
  },
  {
   "cell_type": "markdown",
   "metadata": {},
   "source": [
    "- In our current project data cleaning plays a major role due to the type of data is used"
   ]
  },
  {
   "cell_type": "code",
   "execution_count": 8,
   "metadata": {},
   "outputs": [],
   "source": [
    "# Dropping New_Price column from both training data\n",
    "df.drop(labels=['New_Price'], axis=1, inplace=True) #------> Training Data"
   ]
  },
  {
   "cell_type": "code",
   "execution_count": 9,
   "metadata": {},
   "outputs": [],
   "source": [
    "# Drop the NA Values from Training Data\n",
    "df.dropna(inplace=True)\n",
    "df.reset_index(inplace=True)"
   ]
  },
  {
   "cell_type": "code",
   "execution_count": 10,
   "metadata": {},
   "outputs": [
    {
     "data": {
      "text/plain": [
       "Index(['index', 'Name', 'Location', 'Year', 'Kilometers_Driven', 'Fuel_Type',\n",
       "       'Transmission', 'Owner_Type', 'Mileage', 'Engine', 'Power', 'Seats',\n",
       "       'Price'],\n",
       "      dtype='object')"
      ]
     },
     "execution_count": 10,
     "metadata": {},
     "output_type": "execute_result"
    }
   ],
   "source": [
    "df.columns"
   ]
  },
  {
   "cell_type": "code",
   "execution_count": 11,
   "metadata": {},
   "outputs": [
    {
     "data": {
      "text/plain": [
       "0              Maruti Wagon R LXI CNG\n",
       "1    Hyundai Creta 1.6 CRDi SX Option\n",
       "2                        Honda Jazz V\n",
       "3                   Maruti Ertiga VDI\n",
       "4     Audi A4 New 2.0 TDI Multitronic\n",
       "Name: Name, dtype: object"
      ]
     },
     "execution_count": 11,
     "metadata": {},
     "output_type": "execute_result"
    }
   ],
   "source": [
    "# Let's look at the data in Name column to do further modifications\n",
    "df.Name[:5]"
   ]
  },
  {
   "cell_type": "code",
   "execution_count": 12,
   "metadata": {},
   "outputs": [],
   "source": [
    "# We can see that the names are starting with Brand names and then the odel name followed by some of its specification\n",
    "# Lets clean the data so that we can store Brand and Model name of cars in a seperate column\n",
    "df['Brand'] = df.Name.apply(lambda x: x.split(\" \")[0])\n",
    "df['Model_Name'] = df.Name.apply(lambda x: \" \".join(x.split(\" \")[1:]))\n",
    "\n",
    "# Drop the Name column after adding the columns\n",
    "df.drop(labels=['Name'], axis=1, inplace=True)"
   ]
  },
  {
   "cell_type": "code",
   "execution_count": 13,
   "metadata": {},
   "outputs": [
    {
     "data": {
      "text/plain": [
       "Index(['index', 'Location', 'Year', 'Kilometers_Driven', 'Fuel_Type',\n",
       "       'Transmission', 'Owner_Type', 'Mileage', 'Engine', 'Power', 'Seats',\n",
       "       'Price', 'Brand', 'Model_Name'],\n",
       "      dtype='object')"
      ]
     },
     "execution_count": 13,
     "metadata": {},
     "output_type": "execute_result"
    }
   ],
   "source": [
    "df.columns"
   ]
  },
  {
   "cell_type": "code",
   "execution_count": 14,
   "metadata": {},
   "outputs": [],
   "source": [
    "#reordering the columns\n",
    "df = df[['Brand', 'Model_Name', 'Location', 'Year', 'Kilometers_Driven', 'Fuel_Type', 'Transmission', \n",
    "         'Owner_Type', 'Mileage', 'Engine', 'Power', 'Seats', 'Price']]"
   ]
  },
  {
   "cell_type": "code",
   "execution_count": 15,
   "metadata": {},
   "outputs": [
    {
     "data": {
      "text/plain": [
       "0    26.6 km/kg\n",
       "1    19.67 kmpl\n",
       "2     18.2 kmpl\n",
       "3    20.77 kmpl\n",
       "4     15.2 kmpl\n",
       "Name: Mileage, dtype: object"
      ]
     },
     "execution_count": 15,
     "metadata": {},
     "output_type": "execute_result"
    }
   ],
   "source": [
    "# Column ------> Mileage\n",
    "df.Mileage[:5]"
   ]
  },
  {
   "cell_type": "code",
   "execution_count": 16,
   "metadata": {},
   "outputs": [],
   "source": [
    "# Extract the numerical from the object data using split commands in both training data\n",
    "df.Mileage = df.Mileage.apply(lambda x: str(x.split(\" \")[0]))\n",
    "df.Engine = df.Engine.apply(lambda x: str(x.split(\" \")[0]))\n",
    "df.Power = df.Power.apply(lambda x: str(x.split(\" \")[0]))"
   ]
  },
  {
   "cell_type": "code",
   "execution_count": 17,
   "metadata": {},
   "outputs": [
    {
     "data": {
      "text/html": [
       "<div>\n",
       "<style scoped>\n",
       "    .dataframe tbody tr th:only-of-type {\n",
       "        vertical-align: middle;\n",
       "    }\n",
       "\n",
       "    .dataframe tbody tr th {\n",
       "        vertical-align: top;\n",
       "    }\n",
       "\n",
       "    .dataframe thead th {\n",
       "        text-align: right;\n",
       "    }\n",
       "</style>\n",
       "<table border=\"1\" class=\"dataframe\">\n",
       "  <thead>\n",
       "    <tr style=\"text-align: right;\">\n",
       "      <th></th>\n",
       "      <th>Brand</th>\n",
       "      <th>Model_Name</th>\n",
       "      <th>Location</th>\n",
       "      <th>Year</th>\n",
       "      <th>Kilometers_Driven</th>\n",
       "      <th>Fuel_Type</th>\n",
       "      <th>Transmission</th>\n",
       "      <th>Owner_Type</th>\n",
       "      <th>Mileage</th>\n",
       "      <th>Engine</th>\n",
       "      <th>Power</th>\n",
       "      <th>Seats</th>\n",
       "      <th>Price</th>\n",
       "    </tr>\n",
       "  </thead>\n",
       "  <tbody>\n",
       "    <tr>\n",
       "      <td>0</td>\n",
       "      <td>Maruti</td>\n",
       "      <td>Wagon R LXI CNG</td>\n",
       "      <td>Mumbai</td>\n",
       "      <td>2010</td>\n",
       "      <td>72000</td>\n",
       "      <td>CNG</td>\n",
       "      <td>Manual</td>\n",
       "      <td>First</td>\n",
       "      <td>26.6</td>\n",
       "      <td>998</td>\n",
       "      <td>58.16</td>\n",
       "      <td>5.0</td>\n",
       "      <td>1.75</td>\n",
       "    </tr>\n",
       "    <tr>\n",
       "      <td>1</td>\n",
       "      <td>Hyundai</td>\n",
       "      <td>Creta 1.6 CRDi SX Option</td>\n",
       "      <td>Pune</td>\n",
       "      <td>2015</td>\n",
       "      <td>41000</td>\n",
       "      <td>Diesel</td>\n",
       "      <td>Manual</td>\n",
       "      <td>First</td>\n",
       "      <td>19.67</td>\n",
       "      <td>1582</td>\n",
       "      <td>126.2</td>\n",
       "      <td>5.0</td>\n",
       "      <td>12.50</td>\n",
       "    </tr>\n",
       "    <tr>\n",
       "      <td>2</td>\n",
       "      <td>Honda</td>\n",
       "      <td>Jazz V</td>\n",
       "      <td>Chennai</td>\n",
       "      <td>2011</td>\n",
       "      <td>46000</td>\n",
       "      <td>Petrol</td>\n",
       "      <td>Manual</td>\n",
       "      <td>First</td>\n",
       "      <td>18.2</td>\n",
       "      <td>1199</td>\n",
       "      <td>88.7</td>\n",
       "      <td>5.0</td>\n",
       "      <td>4.50</td>\n",
       "    </tr>\n",
       "    <tr>\n",
       "      <td>3</td>\n",
       "      <td>Maruti</td>\n",
       "      <td>Ertiga VDI</td>\n",
       "      <td>Chennai</td>\n",
       "      <td>2012</td>\n",
       "      <td>87000</td>\n",
       "      <td>Diesel</td>\n",
       "      <td>Manual</td>\n",
       "      <td>First</td>\n",
       "      <td>20.77</td>\n",
       "      <td>1248</td>\n",
       "      <td>88.76</td>\n",
       "      <td>7.0</td>\n",
       "      <td>6.00</td>\n",
       "    </tr>\n",
       "    <tr>\n",
       "      <td>4</td>\n",
       "      <td>Audi</td>\n",
       "      <td>A4 New 2.0 TDI Multitronic</td>\n",
       "      <td>Coimbatore</td>\n",
       "      <td>2013</td>\n",
       "      <td>40670</td>\n",
       "      <td>Diesel</td>\n",
       "      <td>Automatic</td>\n",
       "      <td>Second</td>\n",
       "      <td>15.2</td>\n",
       "      <td>1968</td>\n",
       "      <td>140.8</td>\n",
       "      <td>5.0</td>\n",
       "      <td>17.74</td>\n",
       "    </tr>\n",
       "  </tbody>\n",
       "</table>\n",
       "</div>"
      ],
      "text/plain": [
       "     Brand                  Model_Name    Location  Year  Kilometers_Driven  \\\n",
       "0   Maruti             Wagon R LXI CNG      Mumbai  2010              72000   \n",
       "1  Hyundai    Creta 1.6 CRDi SX Option        Pune  2015              41000   \n",
       "2    Honda                      Jazz V     Chennai  2011              46000   \n",
       "3   Maruti                  Ertiga VDI     Chennai  2012              87000   \n",
       "4     Audi  A4 New 2.0 TDI Multitronic  Coimbatore  2013              40670   \n",
       "\n",
       "  Fuel_Type Transmission Owner_Type Mileage Engine  Power  Seats  Price  \n",
       "0       CNG       Manual      First    26.6    998  58.16    5.0   1.75  \n",
       "1    Diesel       Manual      First   19.67   1582  126.2    5.0  12.50  \n",
       "2    Petrol       Manual      First    18.2   1199   88.7    5.0   4.50  \n",
       "3    Diesel       Manual      First   20.77   1248  88.76    7.0   6.00  \n",
       "4    Diesel    Automatic     Second    15.2   1968  140.8    5.0  17.74  "
      ]
     },
     "execution_count": 17,
     "metadata": {},
     "output_type": "execute_result"
    }
   ],
   "source": [
    "# Let's look at the dataframes\n",
    "df.head()"
   ]
  },
  {
   "cell_type": "code",
   "execution_count": 18,
   "metadata": {},
   "outputs": [
    {
     "name": "stdout",
     "output_type": "stream",
     "text": [
      "<class 'pandas.core.frame.DataFrame'>\n",
      "RangeIndex: 5975 entries, 0 to 5974\n",
      "Data columns (total 13 columns):\n",
      "Brand                5975 non-null object\n",
      "Model_Name           5975 non-null object\n",
      "Location             5975 non-null object\n",
      "Year                 5975 non-null int64\n",
      "Kilometers_Driven    5975 non-null int64\n",
      "Fuel_Type            5975 non-null object\n",
      "Transmission         5975 non-null object\n",
      "Owner_Type           5975 non-null object\n",
      "Mileage              5975 non-null object\n",
      "Engine               5975 non-null object\n",
      "Power                5975 non-null object\n",
      "Seats                5975 non-null float64\n",
      "Price                5975 non-null float64\n",
      "dtypes: float64(2), int64(2), object(9)\n",
      "memory usage: 607.0+ KB\n"
     ]
    }
   ],
   "source": [
    "# Data types of objects.\n",
    "df.info()"
   ]
  },
  {
   "cell_type": "code",
   "execution_count": 19,
   "metadata": {},
   "outputs": [
    {
     "name": "stdout",
     "output_type": "stream",
     "text": [
      "##################################################\n",
      "Maruti           1197\n",
      "Hyundai          1100\n",
      "Honda             601\n",
      "Toyota            409\n",
      "Mercedes-Benz     318\n",
      "Volkswagen        315\n",
      "Ford              298\n",
      "Mahindra          271\n",
      "BMW               262\n",
      "Audi              236\n",
      "Tata              186\n",
      "Skoda             173\n",
      "Renault           145\n",
      "Chevrolet         121\n",
      "Nissan             91\n",
      "Land               57\n",
      "Jaguar             40\n",
      "Mitsubishi         27\n",
      "Mini               26\n",
      "Fiat               25\n",
      "Volvo              21\n",
      "Porsche            18\n",
      "Jeep               15\n",
      "Datsun             13\n",
      "Force               3\n",
      "ISUZU               2\n",
      "Isuzu               1\n",
      "Lamborghini         1\n",
      "Bentley             1\n",
      "Ambassador          1\n",
      "Smart               1\n",
      "Name: Brand, dtype: int64\n",
      "##################################################\n",
      "##################################################\n",
      "XUV500 W8 2WD           49\n",
      "Swift VDI               45\n",
      "City 1.5 S MT           34\n",
      "Swift Dzire VDI         34\n",
      "Swift VDI BSIV          31\n",
      "                        ..\n",
      "Verna 1.6 i ABS          1\n",
      "Amaze EX i-Vtech         1\n",
      "Swift ZDI                1\n",
      "Passat 2.0 PD DSG        1\n",
      "Fabia 1.4 TDI Active     1\n",
      "Name: Model_Name, Length: 1855, dtype: int64\n",
      "##################################################\n",
      "##################################################\n",
      "Mumbai        784\n",
      "Hyderabad     741\n",
      "Kochi         648\n",
      "Coimbatore    634\n",
      "Pune          613\n",
      "Delhi         549\n",
      "Kolkata       530\n",
      "Chennai       490\n",
      "Jaipur        410\n",
      "Bangalore     353\n",
      "Ahmedabad     223\n",
      "Name: Location, dtype: int64\n",
      "##################################################\n",
      "##################################################\n",
      "2014    795\n",
      "2015    741\n",
      "2016    740\n",
      "2013    648\n",
      "2017    586\n",
      "2012    572\n",
      "2011    461\n",
      "2010    339\n",
      "2018    298\n",
      "2009    196\n",
      "2008    169\n",
      "2007    123\n",
      "2019    102\n",
      "2006     75\n",
      "2005     55\n",
      "2004     29\n",
      "2003     15\n",
      "2002     14\n",
      "2001      7\n",
      "1998      4\n",
      "2000      4\n",
      "1999      2\n",
      "Name: Year, dtype: int64\n",
      "##################################################\n",
      "##################################################\n",
      "60000    82\n",
      "45000    70\n",
      "65000    67\n",
      "50000    60\n",
      "70000    60\n",
      "         ..\n",
      "50446     1\n",
      "54540     1\n",
      "70920     1\n",
      "75014     1\n",
      "83969     1\n",
      "Name: Kilometers_Driven, Length: 3080, dtype: int64\n",
      "##################################################\n",
      "##################################################\n",
      "Diesel    3195\n",
      "Petrol    2714\n",
      "CNG         56\n",
      "LPG         10\n",
      "Name: Fuel_Type, dtype: int64\n",
      "##################################################\n",
      "##################################################\n",
      "Manual       4266\n",
      "Automatic    1709\n",
      "Name: Transmission, dtype: int64\n",
      "##################################################\n",
      "##################################################\n",
      "First             4903\n",
      "Second             953\n",
      "Third              111\n",
      "Fourth & Above       8\n",
      "Name: Owner_Type, dtype: int64\n",
      "##################################################\n",
      "##################################################\n",
      "18.9     172\n",
      "17.0     171\n",
      "18.6     119\n",
      "20.36     88\n",
      "21.1      87\n",
      "        ... \n",
      "12.85      1\n",
      "13.58      1\n",
      "10.98      1\n",
      "17.16      1\n",
      "11.07      1\n",
      "Name: Mileage, Length: 430, dtype: int64\n",
      "##################################################\n",
      "##################################################\n",
      "1197    606\n",
      "1248    512\n",
      "1498    303\n",
      "998     259\n",
      "2179    240\n",
      "       ... \n",
      "2487      1\n",
      "1797      1\n",
      "970       1\n",
      "1948      1\n",
      "2149      1\n",
      "Name: Engine, Length: 145, dtype: int64\n",
      "##################################################\n",
      "##################################################\n",
      "74        235\n",
      "98.6      131\n",
      "73.9      125\n",
      "140       123\n",
      "78.9      111\n",
      "         ... \n",
      "236         1\n",
      "181.43      1\n",
      "114.4       1\n",
      "156         1\n",
      "362.9       1\n",
      "Name: Power, Length: 371, dtype: int64\n",
      "##################################################\n",
      "##################################################\n",
      "5.0     5012\n",
      "7.0      674\n",
      "8.0      134\n",
      "4.0       99\n",
      "6.0       31\n",
      "2.0       16\n",
      "10.0       5\n",
      "9.0        3\n",
      "0.0        1\n",
      "Name: Seats, dtype: int64\n",
      "##################################################\n",
      "##################################################\n",
      "4.50     88\n",
      "5.50     84\n",
      "3.50     82\n",
      "4.25     73\n",
      "3.25     70\n",
      "         ..\n",
      "11.96     1\n",
      "5.76      1\n",
      "24.99     1\n",
      "42.75     1\n",
      "16.42     1\n",
      "Name: Price, Length: 1369, dtype: int64\n",
      "##################################################\n"
     ]
    }
   ],
   "source": [
    "for i in df.columns:\n",
    "    print('#'*50)\n",
    "    print(df[i].value_counts())\n",
    "    print(\"#\"*50)"
   ]
  },
  {
   "cell_type": "markdown",
   "metadata": {},
   "source": [
    "---\n",
    "- While cleaning the Power Data I have found some values were entered as \"null bhp\" so we have to obtain the df where the values are not null\n",
    "---"
   ]
  },
  {
   "cell_type": "code",
   "execution_count": 20,
   "metadata": {},
   "outputs": [],
   "source": [
    "df = df[df.Power != 'null']"
   ]
  },
  {
   "cell_type": "code",
   "execution_count": 21,
   "metadata": {},
   "outputs": [],
   "source": [
    "# Extract the numerical from the object data using split commands in both training data\n",
    "df.Mileage = df.Mileage.apply(lambda x: float(x))\n",
    "df.Engine = df.Engine.apply(lambda x: float(x))\n",
    "df.Power = df.Power.apply(lambda x: float(x))"
   ]
  },
  {
   "cell_type": "code",
   "execution_count": 22,
   "metadata": {},
   "outputs": [
    {
     "data": {
      "text/plain": [
       "<matplotlib.axes._subplots.AxesSubplot at 0x1e18f193978>"
      ]
     },
     "execution_count": 22,
     "metadata": {},
     "output_type": "execute_result"
    },
    {
     "data": {
      "image/png": "[encoded data removed]",
      "text/plain": [
       "<Figure size 432x288 with 1 Axes>"
      ]
     },
     "metadata": {
      "needs_background": "light"
     },
     "output_type": "display_data"
    }
   ],
   "source": [
    "sns.boxplot(df.Kilometers_Driven)"
   ]
  },
  {
   "cell_type": "code",
   "execution_count": 23,
   "metadata": {},
   "outputs": [],
   "source": [
    "# Clean the top outliers\n",
    "for i in np.arange(50):\n",
    "    index = df[df.Kilometers_Driven == df.Kilometers_Driven.max()].index\n",
    "    df.drop(index=index, inplace=True, axis=1)\n",
    "df.reset_index(inplace=True)"
   ]
  },
  {
   "cell_type": "code",
   "execution_count": 24,
   "metadata": {},
   "outputs": [
    {
     "data": {
      "text/plain": [
       "<matplotlib.axes._subplots.AxesSubplot at 0x1e19d0fba90>"
      ]
     },
     "execution_count": 24,
     "metadata": {},
     "output_type": "execute_result"
    },
    {
     "data": {
      "image/png": "[encoded data removed]",
      "text/plain": [
       "<Figure size 432x288 with 1 Axes>"
      ]
     },
     "metadata": {
      "needs_background": "light"
     },
     "output_type": "display_data"
    }
   ],
   "source": [
    "sns.boxplot(df.Kilometers_Driven)"
   ]
  },
  {
   "cell_type": "code",
   "execution_count": 25,
   "metadata": {},
   "outputs": [
    {
     "data": {
      "text/plain": [
       "<matplotlib.axes._subplots.AxesSubplot at 0x1e19d16bc88>"
      ]
     },
     "execution_count": 25,
     "metadata": {},
     "output_type": "execute_result"
    },
    {
     "data": {
      "image/png": "[encoded data removed]",
      "text/plain": [
       "<Figure size 432x288 with 1 Axes>"
      ]
     },
     "metadata": {
      "needs_background": "light"
     },
     "output_type": "display_data"
    }
   ],
   "source": [
    "sns.boxplot(df.Engine)"
   ]
  },
  {
   "cell_type": "code",
   "execution_count": 26,
   "metadata": {},
   "outputs": [],
   "source": [
    "# Clean the top outliers\n",
    "for i in np.arange(7):\n",
    "    index = df[df.Engine == df.Engine.max()].index\n",
    "    df.drop(index=index, inplace=True, axis=1)\n",
    "df.reset_index(inplace=True)"
   ]
  },
  {
   "cell_type": "code",
   "execution_count": 27,
   "metadata": {},
   "outputs": [
    {
     "data": {
      "text/plain": [
       "<matplotlib.axes._subplots.AxesSubplot at 0x1e19d162d68>"
      ]
     },
     "execution_count": 27,
     "metadata": {},
     "output_type": "execute_result"
    },
    {
     "data": {
      "image/png": "[encoded data removed]",
      "text/plain": [
       "<Figure size 432x288 with 1 Axes>"
      ]
     },
     "metadata": {
      "needs_background": "light"
     },
     "output_type": "display_data"
    }
   ],
   "source": [
    "sns.boxplot(df.Engine)"
   ]
  },
  {
   "cell_type": "code",
   "execution_count": 28,
   "metadata": {},
   "outputs": [
    {
     "data": {
      "text/plain": [
       "<matplotlib.axes._subplots.AxesSubplot at 0x1e19d230828>"
      ]
     },
     "execution_count": 28,
     "metadata": {},
     "output_type": "execute_result"
    },
    {
     "data": {
      "image/png": "[encoded data removed]",
      "text/plain": [
       "<Figure size 432x288 with 1 Axes>"
      ]
     },
     "metadata": {
      "needs_background": "light"
     },
     "output_type": "display_data"
    }
   ],
   "source": [
    "sns.boxplot(df.Power)"
   ]
  },
  {
   "cell_type": "code",
   "execution_count": 29,
   "metadata": {},
   "outputs": [],
   "source": [
    "# Clean the top outliers\n",
    "for i in np.arange(25):\n",
    "    index = df[df.Power == df.Power.max()].index\n",
    "    df.drop(index=index, inplace=True, axis=1)"
   ]
  },
  {
   "cell_type": "code",
   "execution_count": 30,
   "metadata": {},
   "outputs": [
    {
     "data": {
      "text/plain": [
       "<matplotlib.axes._subplots.AxesSubplot at 0x1e19d28e1d0>"
      ]
     },
     "execution_count": 30,
     "metadata": {},
     "output_type": "execute_result"
    },
    {
     "data": {
      "image/png": "[encoded data removed]",
      "text/plain": [
       "<Figure size 432x288 with 1 Axes>"
      ]
     },
     "metadata": {
      "needs_background": "light"
     },
     "output_type": "display_data"
    }
   ],
   "source": [
    "sns.boxplot(df.Power)"
   ]
  },
  {
   "cell_type": "markdown",
   "metadata": {},
   "source": [
    "## 04. Data Visualization"
   ]
  },
  {
   "cell_type": "markdown",
   "metadata": {},
   "source": [
    "![](https://i.imgur.com/yeq5YcK.png)"
   ]
  },
  {
   "cell_type": "code",
   "execution_count": 31,
   "metadata": {},
   "outputs": [
    {
     "data": {
      "text/html": [
       "<div>\n",
       "<style scoped>\n",
       "    .dataframe tbody tr th:only-of-type {\n",
       "        vertical-align: middle;\n",
       "    }\n",
       "\n",
       "    .dataframe tbody tr th {\n",
       "        vertical-align: top;\n",
       "    }\n",
       "\n",
       "    .dataframe thead th {\n",
       "        text-align: right;\n",
       "    }\n",
       "</style>\n",
       "<table border=\"1\" class=\"dataframe\">\n",
       "  <thead>\n",
       "    <tr style=\"text-align: right;\">\n",
       "      <th></th>\n",
       "      <th>level_0</th>\n",
       "      <th>index</th>\n",
       "      <th>Brand</th>\n",
       "      <th>Model_Name</th>\n",
       "      <th>Location</th>\n",
       "      <th>Year</th>\n",
       "      <th>Kilometers_Driven</th>\n",
       "      <th>Fuel_Type</th>\n",
       "      <th>Transmission</th>\n",
       "      <th>Owner_Type</th>\n",
       "      <th>Mileage</th>\n",
       "      <th>Engine</th>\n",
       "      <th>Power</th>\n",
       "      <th>Seats</th>\n",
       "      <th>Price</th>\n",
       "    </tr>\n",
       "  </thead>\n",
       "  <tbody>\n",
       "    <tr>\n",
       "      <td>0</td>\n",
       "      <td>0</td>\n",
       "      <td>0</td>\n",
       "      <td>Maruti</td>\n",
       "      <td>Wagon R LXI CNG</td>\n",
       "      <td>Mumbai</td>\n",
       "      <td>2010</td>\n",
       "      <td>72000</td>\n",
       "      <td>CNG</td>\n",
       "      <td>Manual</td>\n",
       "      <td>First</td>\n",
       "      <td>26.60</td>\n",
       "      <td>998.0</td>\n",
       "      <td>58.16</td>\n",
       "      <td>5.0</td>\n",
       "      <td>1.75</td>\n",
       "    </tr>\n",
       "    <tr>\n",
       "      <td>1</td>\n",
       "      <td>1</td>\n",
       "      <td>1</td>\n",
       "      <td>Hyundai</td>\n",
       "      <td>Creta 1.6 CRDi SX Option</td>\n",
       "      <td>Pune</td>\n",
       "      <td>2015</td>\n",
       "      <td>41000</td>\n",
       "      <td>Diesel</td>\n",
       "      <td>Manual</td>\n",
       "      <td>First</td>\n",
       "      <td>19.67</td>\n",
       "      <td>1582.0</td>\n",
       "      <td>126.20</td>\n",
       "      <td>5.0</td>\n",
       "      <td>12.50</td>\n",
       "    </tr>\n",
       "    <tr>\n",
       "      <td>2</td>\n",
       "      <td>2</td>\n",
       "      <td>2</td>\n",
       "      <td>Honda</td>\n",
       "      <td>Jazz V</td>\n",
       "      <td>Chennai</td>\n",
       "      <td>2011</td>\n",
       "      <td>46000</td>\n",
       "      <td>Petrol</td>\n",
       "      <td>Manual</td>\n",
       "      <td>First</td>\n",
       "      <td>18.20</td>\n",
       "      <td>1199.0</td>\n",
       "      <td>88.70</td>\n",
       "      <td>5.0</td>\n",
       "      <td>4.50</td>\n",
       "    </tr>\n",
       "    <tr>\n",
       "      <td>3</td>\n",
       "      <td>3</td>\n",
       "      <td>3</td>\n",
       "      <td>Maruti</td>\n",
       "      <td>Ertiga VDI</td>\n",
       "      <td>Chennai</td>\n",
       "      <td>2012</td>\n",
       "      <td>87000</td>\n",
       "      <td>Diesel</td>\n",
       "      <td>Manual</td>\n",
       "      <td>First</td>\n",
       "      <td>20.77</td>\n",
       "      <td>1248.0</td>\n",
       "      <td>88.76</td>\n",
       "      <td>7.0</td>\n",
       "      <td>6.00</td>\n",
       "    </tr>\n",
       "    <tr>\n",
       "      <td>4</td>\n",
       "      <td>4</td>\n",
       "      <td>4</td>\n",
       "      <td>Audi</td>\n",
       "      <td>A4 New 2.0 TDI Multitronic</td>\n",
       "      <td>Coimbatore</td>\n",
       "      <td>2013</td>\n",
       "      <td>40670</td>\n",
       "      <td>Diesel</td>\n",
       "      <td>Automatic</td>\n",
       "      <td>Second</td>\n",
       "      <td>15.20</td>\n",
       "      <td>1968.0</td>\n",
       "      <td>140.80</td>\n",
       "      <td>5.0</td>\n",
       "      <td>17.74</td>\n",
       "    </tr>\n",
       "  </tbody>\n",
       "</table>\n",
       "</div>"
      ],
      "text/plain": [
       "   level_0  index    Brand                  Model_Name    Location  Year  \\\n",
       "0        0      0   Maruti             Wagon R LXI CNG      Mumbai  2010   \n",
       "1        1      1  Hyundai    Creta 1.6 CRDi SX Option        Pune  2015   \n",
       "2        2      2    Honda                      Jazz V     Chennai  2011   \n",
       "3        3      3   Maruti                  Ertiga VDI     Chennai  2012   \n",
       "4        4      4     Audi  A4 New 2.0 TDI Multitronic  Coimbatore  2013   \n",
       "\n",
       "   Kilometers_Driven Fuel_Type Transmission Owner_Type  Mileage  Engine  \\\n",
       "0              72000       CNG       Manual      First    26.60   998.0   \n",
       "1              41000    Diesel       Manual      First    19.67  1582.0   \n",
       "2              46000    Petrol       Manual      First    18.20  1199.0   \n",
       "3              87000    Diesel       Manual      First    20.77  1248.0   \n",
       "4              40670    Diesel    Automatic     Second    15.20  1968.0   \n",
       "\n",
       "    Power  Seats  Price  \n",
       "0   58.16    5.0   1.75  \n",
       "1  126.20    5.0  12.50  \n",
       "2   88.70    5.0   4.50  \n",
       "3   88.76    7.0   6.00  \n",
       "4  140.80    5.0  17.74  "
      ]
     },
     "execution_count": 31,
     "metadata": {},
     "output_type": "execute_result"
    }
   ],
   "source": [
    "df.head()"
   ]
  },
  {
   "cell_type": "code",
   "execution_count": 32,
   "metadata": {},
   "outputs": [
    {
     "data": {
      "text/plain": [
       "<matplotlib.axes._subplots.AxesSubplot at 0x1e19d2f3b70>"
      ]
     },
     "execution_count": 32,
     "metadata": {},
     "output_type": "execute_result"
    },
    {
     "data": {
      "image/png": "[encoded data removed]",
      "text/plain": [
       "<Figure size 1152x432 with 1 Axes>"
      ]
     },
     "metadata": {
      "needs_background": "light"
     },
     "output_type": "display_data"
    }
   ],
   "source": [
    "# Let us look at the top brands\n",
    "plt.figure(figsize=(16,6))\n",
    "pd.value_counts(df.Brand).plot.bar(color='r')"
   ]
  },
  {
   "cell_type": "markdown",
   "metadata": {},
   "source": [
    "- Maruti, Hyundai & Honda tops the list as most selling cars\n",
    "---"
   ]
  },
  {
   "cell_type": "code",
   "execution_count": 33,
   "metadata": {},
   "outputs": [
    {
     "data": {
      "text/plain": [
       "<matplotlib.axes._subplots.AxesSubplot at 0x1e19d2f3d30>"
      ]
     },
     "execution_count": 33,
     "metadata": {},
     "output_type": "execute_result"
    },
    {
     "data": {
      "image/png": "[encoded data removed]",
      "text/plain": [
       "<Figure size 1152x432 with 1 Axes>"
      ]
     },
     "metadata": {
      "needs_background": "light"
     },
     "output_type": "display_data"
    }
   ],
   "source": [
    "# Let us look at the fuel type\n",
    "plt.figure(figsize=(16,6))\n",
    "pd.value_counts(df.Location).plot.bar(color='c', width=0.3)"
   ]
  },
  {
   "cell_type": "markdown",
   "metadata": {},
   "source": [
    "- Most of the Used cars are being sold in Mumbai, Hyderabad and Kochi\n",
    "---"
   ]
  },
  {
   "cell_type": "code",
   "execution_count": 34,
   "metadata": {},
   "outputs": [
    {
     "data": {
      "text/plain": [
       "<matplotlib.axes._subplots.AxesSubplot at 0x1e19a6e0c18>"
      ]
     },
     "execution_count": 34,
     "metadata": {},
     "output_type": "execute_result"
    },
    {
     "data": {
      "image/png": "[encoded data removed]",
      "text/plain": [
       "<Figure size 432x432 with 1 Axes>"
      ]
     },
     "metadata": {
      "needs_background": "light"
     },
     "output_type": "display_data"
    }
   ],
   "source": [
    "# Let us look at the fuel type\n",
    "plt.figure(figsize=(6,6))\n",
    "pd.value_counts(df.Fuel_Type).plot.bar(color='g', width = 0.35)"
   ]
  },
  {
   "cell_type": "markdown",
   "metadata": {},
   "source": [
    "- Most of the are Diesel and Petrol only\n",
    "---"
   ]
  },
  {
   "cell_type": "code",
   "execution_count": 35,
   "metadata": {},
   "outputs": [
    {
     "data": {
      "text/plain": [
       "<matplotlib.axes._subplots.AxesSubplot at 0x1e19a76f0f0>"
      ]
     },
     "execution_count": 35,
     "metadata": {},
     "output_type": "execute_result"
    },
    {
     "data": {
      "image/png": "[encoded data removed]",
      "text/plain": [
       "<Figure size 576x288 with 1 Axes>"
      ]
     },
     "metadata": {
      "needs_background": "light"
     },
     "output_type": "display_data"
    }
   ],
   "source": [
    "# Let us look at the fuel type\n",
    "plt.figure(figsize=(8,4))\n",
    "pd.value_counts(df.Transmission).plot.bar(color='y', width = 0.25)"
   ]
  },
  {
   "cell_type": "code",
   "execution_count": 36,
   "metadata": {},
   "outputs": [
    {
     "data": {
      "text/plain": [
       "<matplotlib.axes._subplots.AxesSubplot at 0x1e19a6a9828>"
      ]
     },
     "execution_count": 36,
     "metadata": {},
     "output_type": "execute_result"
    },
    {
     "data": {
      "image/png": "[encoded data removed]",
      "text/plain": [
       "<Figure size 576x288 with 1 Axes>"
      ]
     },
     "metadata": {
      "needs_background": "light"
     },
     "output_type": "display_data"
    }
   ],
   "source": [
    "# Let us look at the fuel type\n",
    "plt.figure(figsize=(8,4))\n",
    "pd.value_counts(df.Owner_Type).plot.bar(color='b', width = 0.25)"
   ]
  },
  {
   "cell_type": "markdown",
   "metadata": {},
   "source": [
    "- Most of the sold cars are first hand cars.\n",
    "---"
   ]
  },
  {
   "cell_type": "code",
   "execution_count": 37,
   "metadata": {},
   "outputs": [
    {
     "data": {
      "text/html": [
       "<div>\n",
       "<style scoped>\n",
       "    .dataframe tbody tr th:only-of-type {\n",
       "        vertical-align: middle;\n",
       "    }\n",
       "\n",
       "    .dataframe tbody tr th {\n",
       "        vertical-align: top;\n",
       "    }\n",
       "\n",
       "    .dataframe thead th {\n",
       "        text-align: right;\n",
       "    }\n",
       "</style>\n",
       "<table border=\"1\" class=\"dataframe\">\n",
       "  <thead>\n",
       "    <tr style=\"text-align: right;\">\n",
       "      <th></th>\n",
       "      <th>level_0</th>\n",
       "      <th>index</th>\n",
       "      <th>Brand</th>\n",
       "      <th>Model_Name</th>\n",
       "      <th>Location</th>\n",
       "      <th>Year</th>\n",
       "      <th>Kilometers_Driven</th>\n",
       "      <th>Fuel_Type</th>\n",
       "      <th>Transmission</th>\n",
       "      <th>Owner_Type</th>\n",
       "      <th>Mileage</th>\n",
       "      <th>Engine</th>\n",
       "      <th>Power</th>\n",
       "      <th>Seats</th>\n",
       "      <th>Price</th>\n",
       "    </tr>\n",
       "  </thead>\n",
       "  <tbody>\n",
       "    <tr>\n",
       "      <td>0</td>\n",
       "      <td>0</td>\n",
       "      <td>0</td>\n",
       "      <td>Maruti</td>\n",
       "      <td>Wagon R LXI CNG</td>\n",
       "      <td>Mumbai</td>\n",
       "      <td>2010</td>\n",
       "      <td>72000</td>\n",
       "      <td>CNG</td>\n",
       "      <td>Manual</td>\n",
       "      <td>First</td>\n",
       "      <td>26.60</td>\n",
       "      <td>998.0</td>\n",
       "      <td>58.16</td>\n",
       "      <td>5.0</td>\n",
       "      <td>1.75</td>\n",
       "    </tr>\n",
       "    <tr>\n",
       "      <td>1</td>\n",
       "      <td>1</td>\n",
       "      <td>1</td>\n",
       "      <td>Hyundai</td>\n",
       "      <td>Creta 1.6 CRDi SX Option</td>\n",
       "      <td>Pune</td>\n",
       "      <td>2015</td>\n",
       "      <td>41000</td>\n",
       "      <td>Diesel</td>\n",
       "      <td>Manual</td>\n",
       "      <td>First</td>\n",
       "      <td>19.67</td>\n",
       "      <td>1582.0</td>\n",
       "      <td>126.20</td>\n",
       "      <td>5.0</td>\n",
       "      <td>12.50</td>\n",
       "    </tr>\n",
       "    <tr>\n",
       "      <td>2</td>\n",
       "      <td>2</td>\n",
       "      <td>2</td>\n",
       "      <td>Honda</td>\n",
       "      <td>Jazz V</td>\n",
       "      <td>Chennai</td>\n",
       "      <td>2011</td>\n",
       "      <td>46000</td>\n",
       "      <td>Petrol</td>\n",
       "      <td>Manual</td>\n",
       "      <td>First</td>\n",
       "      <td>18.20</td>\n",
       "      <td>1199.0</td>\n",
       "      <td>88.70</td>\n",
       "      <td>5.0</td>\n",
       "      <td>4.50</td>\n",
       "    </tr>\n",
       "    <tr>\n",
       "      <td>3</td>\n",
       "      <td>3</td>\n",
       "      <td>3</td>\n",
       "      <td>Maruti</td>\n",
       "      <td>Ertiga VDI</td>\n",
       "      <td>Chennai</td>\n",
       "      <td>2012</td>\n",
       "      <td>87000</td>\n",
       "      <td>Diesel</td>\n",
       "      <td>Manual</td>\n",
       "      <td>First</td>\n",
       "      <td>20.77</td>\n",
       "      <td>1248.0</td>\n",
       "      <td>88.76</td>\n",
       "      <td>7.0</td>\n",
       "      <td>6.00</td>\n",
       "    </tr>\n",
       "    <tr>\n",
       "      <td>4</td>\n",
       "      <td>4</td>\n",
       "      <td>4</td>\n",
       "      <td>Audi</td>\n",
       "      <td>A4 New 2.0 TDI Multitronic</td>\n",
       "      <td>Coimbatore</td>\n",
       "      <td>2013</td>\n",
       "      <td>40670</td>\n",
       "      <td>Diesel</td>\n",
       "      <td>Automatic</td>\n",
       "      <td>Second</td>\n",
       "      <td>15.20</td>\n",
       "      <td>1968.0</td>\n",
       "      <td>140.80</td>\n",
       "      <td>5.0</td>\n",
       "      <td>17.74</td>\n",
       "    </tr>\n",
       "  </tbody>\n",
       "</table>\n",
       "</div>"
      ],
      "text/plain": [
       "   level_0  index    Brand                  Model_Name    Location  Year  \\\n",
       "0        0      0   Maruti             Wagon R LXI CNG      Mumbai  2010   \n",
       "1        1      1  Hyundai    Creta 1.6 CRDi SX Option        Pune  2015   \n",
       "2        2      2    Honda                      Jazz V     Chennai  2011   \n",
       "3        3      3   Maruti                  Ertiga VDI     Chennai  2012   \n",
       "4        4      4     Audi  A4 New 2.0 TDI Multitronic  Coimbatore  2013   \n",
       "\n",
       "   Kilometers_Driven Fuel_Type Transmission Owner_Type  Mileage  Engine  \\\n",
       "0              72000       CNG       Manual      First    26.60   998.0   \n",
       "1              41000    Diesel       Manual      First    19.67  1582.0   \n",
       "2              46000    Petrol       Manual      First    18.20  1199.0   \n",
       "3              87000    Diesel       Manual      First    20.77  1248.0   \n",
       "4              40670    Diesel    Automatic     Second    15.20  1968.0   \n",
       "\n",
       "    Power  Seats  Price  \n",
       "0   58.16    5.0   1.75  \n",
       "1  126.20    5.0  12.50  \n",
       "2   88.70    5.0   4.50  \n",
       "3   88.76    7.0   6.00  \n",
       "4  140.80    5.0  17.74  "
      ]
     },
     "execution_count": 37,
     "metadata": {},
     "output_type": "execute_result"
    }
   ],
   "source": [
    "df.head()"
   ]
  },
  {
   "cell_type": "code",
   "execution_count": 38,
   "metadata": {},
   "outputs": [],
   "source": [
    "df.drop(labels=['level_0'], axis=1, inplace=True)"
   ]
  },
  {
   "cell_type": "markdown",
   "metadata": {},
   "source": [
    "## 05. Model Building"
   ]
  },
  {
   "cell_type": "code",
   "execution_count": 39,
   "metadata": {},
   "outputs": [],
   "source": [
    "# Convert the categorical data info numerical categories for machine to understand using LabelEncoder\n",
    "from sklearn.preprocessing import LabelEncoder, StandardScaler\n",
    "from sklearn.model_selection import train_test_split\n",
    "from sklearn.ensemble import RandomForestRegressor\n",
    "from sklearn.metrics import r2_score, mean_absolute_error, mean_squared_error"
   ]
  },
  {
   "cell_type": "code",
   "execution_count": 40,
   "metadata": {},
   "outputs": [
    {
     "data": {
      "text/plain": [
       "Index(['index', 'Brand', 'Model_Name', 'Location', 'Year', 'Kilometers_Driven',\n",
       "       'Fuel_Type', 'Transmission', 'Owner_Type', 'Mileage', 'Engine', 'Power',\n",
       "       'Seats', 'Price'],\n",
       "      dtype='object')"
      ]
     },
     "execution_count": 40,
     "metadata": {},
     "output_type": "execute_result"
    }
   ],
   "source": [
    "df.columns"
   ]
  },
  {
   "cell_type": "code",
   "execution_count": 41,
   "metadata": {},
   "outputs": [],
   "source": [
    "encoder = LabelEncoder()"
   ]
  },
  {
   "cell_type": "code",
   "execution_count": 42,
   "metadata": {},
   "outputs": [],
   "source": [
    "# Encode the categorical columns of training data\n",
    "df.Brand = encoder.fit_transform(df.Power)\n",
    "df.Model_Name = encoder.fit_transform(df.Model_Name)\n",
    "df.Location = encoder.fit_transform(df.Location)\n",
    "df.Owner_Type = encoder.fit_transform(df.Owner_Type)\n",
    "df.Fuel_Type = encoder.fit_transform(df.Fuel_Type)\n",
    "df.Transmission = encoder.fit_transform(df.Transmission)"
   ]
  },
  {
   "cell_type": "code",
   "execution_count": 43,
   "metadata": {},
   "outputs": [
    {
     "data": {
      "text/html": [
       "<div>\n",
       "<style scoped>\n",
       "    .dataframe tbody tr th:only-of-type {\n",
       "        vertical-align: middle;\n",
       "    }\n",
       "\n",
       "    .dataframe tbody tr th {\n",
       "        vertical-align: top;\n",
       "    }\n",
       "\n",
       "    .dataframe thead th {\n",
       "        text-align: right;\n",
       "    }\n",
       "</style>\n",
       "<table border=\"1\" class=\"dataframe\">\n",
       "  <thead>\n",
       "    <tr style=\"text-align: right;\">\n",
       "      <th></th>\n",
       "      <th>index</th>\n",
       "      <th>Brand</th>\n",
       "      <th>Model_Name</th>\n",
       "      <th>Location</th>\n",
       "      <th>Year</th>\n",
       "      <th>Kilometers_Driven</th>\n",
       "      <th>Fuel_Type</th>\n",
       "      <th>Transmission</th>\n",
       "      <th>Owner_Type</th>\n",
       "      <th>Mileage</th>\n",
       "      <th>Engine</th>\n",
       "      <th>Power</th>\n",
       "      <th>Seats</th>\n",
       "      <th>Price</th>\n",
       "    </tr>\n",
       "  </thead>\n",
       "  <tbody>\n",
       "    <tr>\n",
       "      <td>0</td>\n",
       "      <td>0</td>\n",
       "      <td>23</td>\n",
       "      <td>1525</td>\n",
       "      <td>9</td>\n",
       "      <td>2010</td>\n",
       "      <td>72000</td>\n",
       "      <td>0</td>\n",
       "      <td>1</td>\n",
       "      <td>0</td>\n",
       "      <td>26.60</td>\n",
       "      <td>998.0</td>\n",
       "      <td>58.16</td>\n",
       "      <td>5.0</td>\n",
       "      <td>1.75</td>\n",
       "    </tr>\n",
       "    <tr>\n",
       "      <td>1</td>\n",
       "      <td>1</td>\n",
       "      <td>187</td>\n",
       "      <td>431</td>\n",
       "      <td>10</td>\n",
       "      <td>2015</td>\n",
       "      <td>41000</td>\n",
       "      <td>1</td>\n",
       "      <td>1</td>\n",
       "      <td>0</td>\n",
       "      <td>19.67</td>\n",
       "      <td>1582.0</td>\n",
       "      <td>126.20</td>\n",
       "      <td>5.0</td>\n",
       "      <td>12.50</td>\n",
       "    </tr>\n",
       "    <tr>\n",
       "      <td>2</td>\n",
       "      <td>2</td>\n",
       "      <td>105</td>\n",
       "      <td>856</td>\n",
       "      <td>2</td>\n",
       "      <td>2011</td>\n",
       "      <td>46000</td>\n",
       "      <td>3</td>\n",
       "      <td>1</td>\n",
       "      <td>0</td>\n",
       "      <td>18.20</td>\n",
       "      <td>1199.0</td>\n",
       "      <td>88.70</td>\n",
       "      <td>5.0</td>\n",
       "      <td>4.50</td>\n",
       "    </tr>\n",
       "    <tr>\n",
       "      <td>3</td>\n",
       "      <td>3</td>\n",
       "      <td>107</td>\n",
       "      <td>581</td>\n",
       "      <td>2</td>\n",
       "      <td>2012</td>\n",
       "      <td>87000</td>\n",
       "      <td>1</td>\n",
       "      <td>1</td>\n",
       "      <td>0</td>\n",
       "      <td>20.77</td>\n",
       "      <td>1248.0</td>\n",
       "      <td>88.76</td>\n",
       "      <td>7.0</td>\n",
       "      <td>6.00</td>\n",
       "    </tr>\n",
       "    <tr>\n",
       "      <td>4</td>\n",
       "      <td>4</td>\n",
       "      <td>207</td>\n",
       "      <td>83</td>\n",
       "      <td>3</td>\n",
       "      <td>2013</td>\n",
       "      <td>40670</td>\n",
       "      <td>1</td>\n",
       "      <td>0</td>\n",
       "      <td>2</td>\n",
       "      <td>15.20</td>\n",
       "      <td>1968.0</td>\n",
       "      <td>140.80</td>\n",
       "      <td>5.0</td>\n",
       "      <td>17.74</td>\n",
       "    </tr>\n",
       "  </tbody>\n",
       "</table>\n",
       "</div>"
      ],
      "text/plain": [
       "   index  Brand  Model_Name  Location  Year  Kilometers_Driven  Fuel_Type  \\\n",
       "0      0     23        1525         9  2010              72000          0   \n",
       "1      1    187         431        10  2015              41000          1   \n",
       "2      2    105         856         2  2011              46000          3   \n",
       "3      3    107         581         2  2012              87000          1   \n",
       "4      4    207          83         3  2013              40670          1   \n",
       "\n",
       "   Transmission  Owner_Type  Mileage  Engine   Power  Seats  Price  \n",
       "0             1           0    26.60   998.0   58.16    5.0   1.75  \n",
       "1             1           0    19.67  1582.0  126.20    5.0  12.50  \n",
       "2             1           0    18.20  1199.0   88.70    5.0   4.50  \n",
       "3             1           0    20.77  1248.0   88.76    7.0   6.00  \n",
       "4             0           2    15.20  1968.0  140.80    5.0  17.74  "
      ]
     },
     "execution_count": 43,
     "metadata": {},
     "output_type": "execute_result"
    }
   ],
   "source": [
    "df.head()"
   ]
  },
  {
   "cell_type": "code",
   "execution_count": 44,
   "metadata": {},
   "outputs": [
    {
     "name": "stdout",
     "output_type": "stream",
     "text": [
      "<class 'pandas.core.frame.DataFrame'>\n",
      "Int64Index: 5713 entries, 0 to 5789\n",
      "Data columns (total 14 columns):\n",
      "index                5713 non-null int64\n",
      "Brand                5713 non-null int64\n",
      "Model_Name           5713 non-null int32\n",
      "Location             5713 non-null int32\n",
      "Year                 5713 non-null int64\n",
      "Kilometers_Driven    5713 non-null int64\n",
      "Fuel_Type            5713 non-null int32\n",
      "Transmission         5713 non-null int32\n",
      "Owner_Type           5713 non-null int32\n",
      "Mileage              5713 non-null float64\n",
      "Engine               5713 non-null float64\n",
      "Power                5713 non-null float64\n",
      "Seats                5713 non-null float64\n",
      "Price                5713 non-null float64\n",
      "dtypes: float64(5), int32(5), int64(4)\n",
      "memory usage: 557.9 KB\n"
     ]
    }
   ],
   "source": [
    "df.info()"
   ]
  },
  {
   "cell_type": "code",
   "execution_count": 45,
   "metadata": {},
   "outputs": [
    {
     "data": {
      "image/png": "[encoded data removed]",
      "text/plain": [
       "<Figure size 1152x1872 with 14 Axes>"
      ]
     },
     "metadata": {
      "needs_background": "light"
     },
     "output_type": "display_data"
    }
   ],
   "source": [
    "# Let us check the distribution graphs for our data\n",
    "plt.figure(figsize=(16,26))\n",
    "c = ['r','Orange','g','y','b','r','k','c','m', 'peru', 'olive', 'm', 'c', 'tan', 'plum']\n",
    "for i in np.arange(1,15):\n",
    "    plt.subplot(7,2,i)\n",
    "    sns.distplot(df[df.columns[i-1]], color=c[i])"
   ]
  },
  {
   "cell_type": "markdown",
   "metadata": {},
   "source": [
    "### Data Insights"
   ]
  },
  {
   "cell_type": "code",
   "execution_count": 46,
   "metadata": {},
   "outputs": [
    {
     "data": {
      "text/plain": [
       "(14.0, 0.0)"
      ]
     },
     "execution_count": 46,
     "metadata": {},
     "output_type": "execute_result"
    },
    {
     "data": {
      "image/png": "[encoded data removed]",
      "text/plain": [
       "<Figure size 1152x720 with 2 Axes>"
      ]
     },
     "metadata": {
      "needs_background": "light"
     },
     "output_type": "display_data"
    }
   ],
   "source": [
    "# Correlation between the data columns in training data\n",
    "plt.figure(figsize=(16,10))\n",
    "ax = sns.heatmap(df.corr(), annot=True, cmap='viridis')\n",
    "\n",
    "bottom, top = ax.get_ylim()\n",
    "ax.set_ylim(bottom + 0.5, top - 0.5)"
   ]
  },
  {
   "cell_type": "markdown",
   "metadata": {},
   "source": [
    "- We can see that price is highly related with\n",
    "    \n",
    "    - Engine\n",
    "    - Power"
   ]
  },
  {
   "cell_type": "code",
   "execution_count": 47,
   "metadata": {},
   "outputs": [],
   "source": [
    "# Let us define the Dependent & Independent variables to train our model\n",
    "X = df.drop(labels=['Price', 'Model_Name', 'Transmission'], axis=1)\n",
    "# Dropping transmission because it is completely negatively corelated to price\n",
    "y = df['Price']"
   ]
  },
  {
   "cell_type": "code",
   "execution_count": 48,
   "metadata": {},
   "outputs": [
    {
     "data": {
      "text/plain": [
       "Index(['index', 'Brand', 'Location', 'Year', 'Kilometers_Driven', 'Fuel_Type',\n",
       "       'Owner_Type', 'Mileage', 'Engine', 'Power', 'Seats'],\n",
       "      dtype='object')"
      ]
     },
     "execution_count": 48,
     "metadata": {},
     "output_type": "execute_result"
    }
   ],
   "source": [
    "X.columns"
   ]
  },
  {
   "cell_type": "code",
   "execution_count": 49,
   "metadata": {},
   "outputs": [],
   "source": [
    "X = X.iloc[:,1:]"
   ]
  },
  {
   "cell_type": "code",
   "execution_count": 50,
   "metadata": {},
   "outputs": [
    {
     "data": {
      "text/plain": [
       "Index(['Brand', 'Location', 'Year', 'Kilometers_Driven', 'Fuel_Type',\n",
       "       'Owner_Type', 'Mileage', 'Engine', 'Power', 'Seats'],\n",
       "      dtype='object')"
      ]
     },
     "execution_count": 50,
     "metadata": {},
     "output_type": "execute_result"
    }
   ],
   "source": [
    "X.columns"
   ]
  },
  {
   "cell_type": "code",
   "execution_count": 51,
   "metadata": {},
   "outputs": [],
   "source": [
    "# Scale the data to achieve accurate training results.\n",
    "scaler = StandardScaler()\n",
    "X = scaler.fit_transform(X)"
   ]
  },
  {
   "cell_type": "code",
   "execution_count": 52,
   "metadata": {},
   "outputs": [
    {
     "name": "stdout",
     "output_type": "stream",
     "text": [
      "(3999, 10) (1714, 10) (3999,) (1714,)\n"
     ]
    }
   ],
   "source": [
    "X_train, X_test, y_train, y_test = train_test_split(X, y, test_size=0.3, random_state=25)\n",
    "print(X_train.shape, X_test.shape, y_train.shape, y_test.shape)"
   ]
  },
  {
   "cell_type": "code",
   "execution_count": 53,
   "metadata": {},
   "outputs": [],
   "source": [
    "#import required libraries\n",
    "from sklearn.preprocessing import LabelEncoder, StandardScaler\n",
    "from sklearn.model_selection import train_test_split, GridSearchCV, RandomizedSearchCV\n",
    "from sklearn.linear_model import LinearRegression\n",
    "from sklearn.neighbors import KNeighborsRegressor\n",
    "from sklearn.tree import DecisionTreeRegressor\n",
    "from sklearn.ensemble import RandomForestRegressor\n",
    "from xgboost import XGBRegressor"
   ]
  },
  {
   "cell_type": "code",
   "execution_count": 54,
   "metadata": {},
   "outputs": [],
   "source": [
    "# Create a function to print Metrics of our data, similar to classification report\n",
    "# import required Sci-Kit Learn metrics for cmpiling\n",
    "from sklearn.metrics import mean_squared_error, mean_absolute_error, mean_squared_log_error, r2_score, accuracy_score\n",
    "import math\n",
    "\n",
    "def model_report(y_true, y_pred):\n",
    "    print('R2 Score : ', r2_score(y_true, y_pred))\n",
    "    print(\"Root Mean Squared Error : \", math.sqrt(mean_squared_error(y_true, y_pred)))\n"
   ]
  },
  {
   "cell_type": "code",
   "execution_count": 55,
   "metadata": {},
   "outputs": [],
   "source": [
    "# Let us create an Accuracy function to define our model accuracy\n",
    "def score(y_pred, y_true):\n",
    "    error = np.square(np.log10(y_pred +1) - np.log10(y_true +1)).mean() ** 0.5\n",
    "    score = 1 - error\n",
    "    return score"
   ]
  },
  {
   "cell_type": "code",
   "execution_count": 56,
   "metadata": {},
   "outputs": [
    {
     "name": "stdout",
     "output_type": "stream",
     "text": [
      "##################################################\n",
      "R2 Score :  0.7403688501929651\n",
      "Root Mean Squared Error :  5.0230189120701\n",
      "None\n",
      "##################################################\n",
      "Accuracy: 78.84\n",
      "##################################################\n"
     ]
    }
   ],
   "source": [
    "lin_model = LinearRegression()\n",
    "lin_model.fit(X_train, y_train)\n",
    "y_pred = lin_model.predict(X_test)\n",
    "\n",
    "print('#'*50)\n",
    "print(model_report(y_test, y_pred))\n",
    "print('#'*50)\n",
    "\n",
    "print('Accuracy:',score(y_test, y_pred).round(4)*100)\n",
    "print('#'*50)"
   ]
  },
  {
   "cell_type": "code",
   "execution_count": 57,
   "metadata": {},
   "outputs": [
    {
     "name": "stdout",
     "output_type": "stream",
     "text": [
      "##################################################\n",
      "R2 Score :  0.8600243532830332\n",
      "Root Mean Squared Error :  3.6881846528143822\n",
      "None\n",
      "##################################################\n",
      "Accuracy: 89.75\n",
      "##################################################\n"
     ]
    }
   ],
   "source": [
    "params = dict(n_neighbors = list(range(1, 20)))\n",
    "knn_model = GridSearchCV(KNeighborsRegressor(), param_grid = params, cv = 5, scoring = 'neg_mean_squared_error')\n",
    "knn_model.fit(X_train, y_train)\n",
    "y_pred = knn_model.predict(X_test)\n",
    "\n",
    "print('#'*50)\n",
    "print(model_report(y_test, y_pred))\n",
    "print('#'*50)\n",
    "\n",
    "print('Accuracy:',score(y_test, y_pred).round(4)*100)\n",
    "print('#'*50)"
   ]
  },
  {
   "cell_type": "code",
   "execution_count": 58,
   "metadata": {},
   "outputs": [
    {
     "name": "stdout",
     "output_type": "stream",
     "text": [
      "##################################################\n",
      "R2 Score :  0.83871495691834\n",
      "Root Mean Squared Error :  3.9589814081450068\n",
      "None\n",
      "##################################################\n",
      "Accuracy: 87.94\n",
      "##################################################\n"
     ]
    }
   ],
   "source": [
    "params = dict(max_depth = list(range(1,30)))\n",
    "tree_model = GridSearchCV(DecisionTreeRegressor(), param_grid = params, cv = 5)\n",
    "tree_model.fit(X_train, y_train)\n",
    "y_pred = tree_model.predict(X_test)\n",
    "\n",
    "print('#'*50)\n",
    "print(model_report(y_test, y_pred))\n",
    "print('#'*50)\n",
    "\n",
    "print('Accuracy:',score(y_test, y_pred).round(4)*100)\n",
    "print('#'*50)\n"
   ]
  },
  {
   "cell_type": "code",
   "execution_count": 59,
   "metadata": {},
   "outputs": [
    {
     "name": "stdout",
     "output_type": "stream",
     "text": [
      "##################################################\n",
      "R2 Score :  0.9206634357337986\n",
      "Root Mean Squared Error :  2.7766625929166358\n",
      "None\n",
      "##################################################\n",
      "Accuracy: 92.43\n",
      "##################################################\n"
     ]
    }
   ],
   "source": [
    "param_distributions = dict(n_estimators = [100,200,300,400,500], min_samples_split = [2,5,10])\n",
    "randomModel = RandomizedSearchCV(RandomForestRegressor(), param_distributions, n_iter=10, scoring='neg_mean_squared_error', n_jobs=-1)\n",
    "randomModel.fit(X_train, y_train)\n",
    "y_pred = randomModel.predict(X_test)\n",
    "\n",
    "print('#'*50)\n",
    "print(model_report(y_test, y_pred))\n",
    "print('#'*50)\n",
    "\n",
    "print('Accuracy:',score(y_test, y_pred).round(4)*100)\n",
    "print('#'*50)"
   ]
  },
  {
   "cell_type": "code",
   "execution_count": 60,
   "metadata": {},
   "outputs": [
    {
     "name": "stdout",
     "output_type": "stream",
     "text": [
      "[05:03:32] WARNING: C:/Jenkins/workspace/xgboost-win64_release_0.90/src/objective/regression_obj.cu:152: reg:linear is now deprecated in favor of reg:squarederror.\n",
      "##################################################\n",
      "R2 Score :  0.928523979555144\n",
      "Root Mean Squared Error :  2.6355217046902495\n",
      "None\n",
      "##################################################\n",
      "Accuracy: 92.86999999999999\n",
      "##################################################\n"
     ]
    }
   ],
   "source": [
    "tuned_params = {'max_depth': [1, 2, 3, 4, 5],\n",
    "                'n_estimators': [100, 200, 300, 400, 500],\n",
    "                'reg_lambda': [0.001, 0.1, 1.0]\n",
    "               }\n",
    "XGB_model = RandomizedSearchCV(XGBRegressor(), tuned_params, n_iter=20, scoring = 'neg_mean_absolute_error', cv=5, n_jobs=-1)\n",
    "XGB_model.fit(X_train, y_train)\n",
    "y_pred = XGB_model.predict(X_test)\n",
    "\n",
    "print('#'*50)\n",
    "print(model_report(y_test, y_pred))\n",
    "print('#'*50)\n",
    "\n",
    "print('Accuracy:',score(y_test, y_pred).round(4)*100)\n",
    "print('#'*50)"
   ]
  },
  {
   "cell_type": "markdown",
   "metadata": {},
   "source": [
    "# Thank You"
   ]
  }
 ],
 "metadata": {
  "kernelspec": {
   "display_name": "Python 3",
   "language": "python",
   "name": "python3"
  },
  "language_info": {
   "codemirror_mode": {
    "name": "ipython",
    "version": 3
   },
   "file_extension": ".py",
   "mimetype": "text/x-python",
   "name": "python",
   "nbconvert_exporter": "python",
   "pygments_lexer": "ipython3",
   "version": "3.7.3"
  }
 },
 "nbformat": 4,
 "nbformat_minor": 2
}
